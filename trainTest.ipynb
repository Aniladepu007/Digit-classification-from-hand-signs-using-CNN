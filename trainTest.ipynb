{
  "nbformat": 4,
  "nbformat_minor": 0,
  "metadata": {
    "colab": {
      "name": "pr_draft.ipynb",
      "provenance": [],
      "collapsed_sections": []
    },
    "kernelspec": {
      "name": "python3",
      "display_name": "Python 3"
    },
    "accelerator": "GPU"
  },
  "cells": [
    {
      "cell_type": "code",
      "metadata": {
        "id": "an1utvjt4CSj",
        "colab_type": "code",
        "colab": {}
      },
      "source": [
        "import tensorflow as tf"
      ],
      "execution_count": 2335,
      "outputs": []
    },
    {
      "cell_type": "code",
      "metadata": {
        "id": "aDENO_qY469i",
        "colab_type": "code",
        "colab": {}
      },
      "source": [
        "# cd /content/drive/My Drive/PR_project"
      ],
      "execution_count": 2336,
      "outputs": []
    },
    {
      "cell_type": "code",
      "metadata": {
        "id": "ft1_yJM29AQs",
        "colab_type": "code",
        "colab": {}
      },
      "source": [
        "import numpy as np\n",
        "from sklearn.model_selection import train_test_split\n",
        "import cv2\n",
        "import copy\n",
        "import matplotlib.pyplot as plt\n",
        "from keras import regularizers\n",
        "from keras.models import Sequential\n",
        "from keras.layers import Conv2D,MaxPooling2D,Flatten,Dense,Dropout"
      ],
      "execution_count": 2337,
      "outputs": []
    },
    {
      "cell_type": "code",
      "metadata": {
        "id": "O_tMDIPv9IAU",
        "colab_type": "code",
        "colab": {}
      },
      "source": [
        "X = np.load('./segmentedImages_grayScale_400x400.npy')\n",
        "y = np.load('./labels_700_Images.npy')\n",
        "\n",
        "imgSize = 32\n",
        "\n",
        "X1 = []\n",
        "for i in X:\n",
        "    i = cv2.resize(np.asarray(i.astype(np.float32)),(imgSize,imgSize))\n",
        "    X1.append(np.asarray(i.astype(np.float32)))\n",
        "\n",
        "X1 = np.asarray(X1)"
      ],
      "execution_count": 2338,
      "outputs": []
    },
    {
      "cell_type": "code",
      "metadata": {
        "id": "I7zN9LR39hy8",
        "colab_type": "code",
        "colab": {}
      },
      "source": [
        "x_train, x_test, y_train, y_test = train_test_split(X1, y, test_size=0.2, random_state=50)"
      ],
      "execution_count": 2339,
      "outputs": []
    },
    {
      "cell_type": "code",
      "metadata": {
        "id": "GnUJudVyDXQA",
        "colab_type": "code",
        "colab": {}
      },
      "source": [
        "# x_train, x_test = x_train / 255.0, x_test / 255.0"
      ],
      "execution_count": 2340,
      "outputs": []
    },
    {
      "cell_type": "code",
      "metadata": {
        "id": "jHaI1pIa9znv",
        "colab_type": "code",
        "colab": {}
      },
      "source": [
        "x_train, x_test = x_train / 1.0, x_test / 1.0"
      ],
      "execution_count": 2341,
      "outputs": []
    },
    {
      "cell_type": "code",
      "metadata": {
        "id": "P3d-XJ3h-620",
        "colab_type": "code",
        "colab": {}
      },
      "source": [
        "temp = np.asarray([ x_train[i].reshape(x_train[i].shape[0], x_train[i].shape[1], 1) for i in range(len(x_train))])\n",
        "x_train = copy.deepcopy(temp)\n",
        "temp1 = np.asarray([y_train[i].reshape(1) for i in range(len(y_train))])\n",
        "y_train = copy.deepcopy(temp1)\n",
        "\n",
        "tmp = np.asarray([ x_test[i].reshape(x_test[i].shape[0], x_test[i].shape[1], 1) for i in range(len(x_test))])\n",
        "x_test = copy.deepcopy(tmp)\n",
        "tmp1 = np.asarray([y_test[i].reshape(1) for i in range(len(y_test))])\n",
        "y_test = copy.deepcopy(tmp1)\n"
      ],
      "execution_count": 2342,
      "outputs": []
    },
    {
      "cell_type": "code",
      "metadata": {
        "id": "3z7Ixa69frrB",
        "colab_type": "code",
        "colab": {}
      },
      "source": [
        ""
      ],
      "execution_count": 2342,
      "outputs": []
    },
    {
      "cell_type": "code",
      "metadata": {
        "id": "wwcuyzGQvg_v",
        "colab_type": "code",
        "colab": {}
      },
      "source": [
        "model = tf.keras.models.Sequential([\n",
        "  tf.keras.layers.Conv2D(16,kernel_size=3,strides=1,padding=\"same\", activation='relu', input_shape=(imgSize, imgSize, 1)),\n",
        "  tf.keras.layers.AveragePooling2D(),\n",
        "  tf.keras.layers.Conv2D(32,kernel_size=3,strides=1,padding=\"same\", activation='relu'),\n",
        "  tf.keras.layers.AveragePooling2D(),\n",
        "  tf.keras.layers.Conv2D(64,kernel_size=3,strides=1,padding=\"same\", activation='relu'),\n",
        "  tf.keras.layers.AveragePooling2D(),\n",
        "  tf.keras.layers.Flatten(),\n",
        "  tf.keras.layers.Dense(128, activation='selu', kernel_initializer='lecun_normal'),\n",
        "  tf.keras.layers.Dropout(0.2),\n",
        "  tf.keras.layers.Dense(10, activation='selu', kernel_initializer='lecun_normal')\n",
        "])"
      ],
      "execution_count": 2343,
      "outputs": []
    },
    {
      "cell_type": "code",
      "metadata": {
        "id": "OcZW5xSJ3OcZ",
        "colab_type": "code",
        "colab": {
          "base_uri": "https://localhost:8080/",
          "height": 493
        },
        "outputId": "7f68db83-d414-4d04-8e17-1a83614cef78"
      },
      "source": [
        "model.summary()"
      ],
      "execution_count": 2344,
      "outputs": [
        {
          "output_type": "stream",
          "text": [
            "Model: \"sequential_97\"\n",
            "_________________________________________________________________\n",
            "Layer (type)                 Output Shape              Param #   \n",
            "=================================================================\n",
            "conv2d_289 (Conv2D)          (None, 32, 32, 16)        160       \n",
            "_________________________________________________________________\n",
            "average_pooling2d_243 (Avera (None, 16, 16, 16)        0         \n",
            "_________________________________________________________________\n",
            "conv2d_290 (Conv2D)          (None, 16, 16, 32)        4640      \n",
            "_________________________________________________________________\n",
            "average_pooling2d_244 (Avera (None, 8, 8, 32)          0         \n",
            "_________________________________________________________________\n",
            "conv2d_291 (Conv2D)          (None, 8, 8, 64)          18496     \n",
            "_________________________________________________________________\n",
            "average_pooling2d_245 (Avera (None, 4, 4, 64)          0         \n",
            "_________________________________________________________________\n",
            "flatten_97 (Flatten)         (None, 1024)              0         \n",
            "_________________________________________________________________\n",
            "dense_194 (Dense)            (None, 128)               131200    \n",
            "_________________________________________________________________\n",
            "dropout_93 (Dropout)         (None, 128)               0         \n",
            "_________________________________________________________________\n",
            "dense_195 (Dense)            (None, 10)                1290      \n",
            "=================================================================\n",
            "Total params: 155,786\n",
            "Trainable params: 155,786\n",
            "Non-trainable params: 0\n",
            "_________________________________________________________________\n"
          ],
          "name": "stdout"
        }
      ]
    },
    {
      "cell_type": "code",
      "metadata": {
        "id": "C_Jnhnk2fdV1",
        "colab_type": "code",
        "colab": {
          "base_uri": "https://localhost:8080/",
          "height": 34
        },
        "outputId": "1f8ae025-8c7f-4cf3-f36a-832273cdf03d"
      },
      "source": [
        "len(model.layers)"
      ],
      "execution_count": 2345,
      "outputs": [
        {
          "output_type": "execute_result",
          "data": {
            "text/plain": [
              "10"
            ]
          },
          "metadata": {
            "tags": []
          },
          "execution_count": 2345
        }
      ]
    },
    {
      "cell_type": "code",
      "metadata": {
        "id": "pHAh3rUo-b31",
        "colab_type": "code",
        "colab": {}
      },
      "source": [
        "loss_fn = tf.keras.losses.SparseCategoricalCrossentropy(from_logits=True)"
      ],
      "execution_count": 2346,
      "outputs": []
    },
    {
      "cell_type": "code",
      "metadata": {
        "id": "XxO4hM1F-fM1",
        "colab_type": "code",
        "colab": {}
      },
      "source": [
        "model.compile(optimizer='adam', loss=loss_fn, metrics=['accuracy'])"
      ],
      "execution_count": 2347,
      "outputs": []
    },
    {
      "cell_type": "code",
      "metadata": {
        "id": "Wc6fq_xr-_0H",
        "colab_type": "code",
        "colab": {}
      },
      "source": [
        "# x_valid.shape"
      ],
      "execution_count": 2348,
      "outputs": []
    },
    {
      "cell_type": "code",
      "metadata": {
        "id": "7SkkXfWH-isC",
        "colab_type": "code",
        "colab": {
          "base_uri": "https://localhost:8080/",
          "height": 1000
        },
        "outputId": "30ac6421-1d09-4a98-a776-d54a07ede7ec"
      },
      "source": [
        "history = model.fit(x_train,\n",
        "                    y_train,\n",
        "                    epochs = 50,\n",
        "                    batch_size = 4,\n",
        "                    validation_split = 0.1,\n",
        "                    validation_freq = 2,\n",
        "                    verbose=2\n",
        "                )"
      ],
      "execution_count": 2349,
      "outputs": [
        {
          "output_type": "stream",
          "text": [
            "Epoch 1/50\n",
            "126/126 - 0s - loss: 1.7427 - accuracy: 0.3591\n",
            "Epoch 2/50\n",
            "126/126 - 0s - loss: 0.4876 - accuracy: 0.8571 - val_loss: 0.1962 - val_accuracy: 0.9464\n",
            "Epoch 3/50\n",
            "126/126 - 0s - loss: 0.2064 - accuracy: 0.9464\n",
            "Epoch 4/50\n",
            "126/126 - 0s - loss: 0.1487 - accuracy: 0.9623 - val_loss: 0.0486 - val_accuracy: 1.0000\n",
            "Epoch 5/50\n",
            "126/126 - 0s - loss: 0.0965 - accuracy: 0.9683\n",
            "Epoch 6/50\n",
            "126/126 - 0s - loss: 0.0716 - accuracy: 0.9782 - val_loss: 0.0880 - val_accuracy: 0.9286\n",
            "Epoch 7/50\n",
            "126/126 - 0s - loss: 0.0510 - accuracy: 0.9821\n",
            "Epoch 8/50\n",
            "126/126 - 0s - loss: 0.0424 - accuracy: 0.9841 - val_loss: 0.0343 - val_accuracy: 0.9821\n",
            "Epoch 9/50\n",
            "126/126 - 0s - loss: 0.0745 - accuracy: 0.9782\n",
            "Epoch 10/50\n",
            "126/126 - 0s - loss: 0.0299 - accuracy: 0.9921 - val_loss: 0.0063 - val_accuracy: 1.0000\n",
            "Epoch 11/50\n",
            "126/126 - 0s - loss: 0.0269 - accuracy: 0.9901\n",
            "Epoch 12/50\n",
            "126/126 - 0s - loss: 0.0985 - accuracy: 0.9643 - val_loss: 0.0155 - val_accuracy: 1.0000\n",
            "Epoch 13/50\n",
            "126/126 - 0s - loss: 0.0250 - accuracy: 0.9940\n",
            "Epoch 14/50\n",
            "126/126 - 0s - loss: 0.0074 - accuracy: 1.0000 - val_loss: 0.0014 - val_accuracy: 1.0000\n",
            "Epoch 15/50\n",
            "126/126 - 0s - loss: 0.0078 - accuracy: 0.9960\n",
            "Epoch 16/50\n",
            "126/126 - 0s - loss: 0.0153 - accuracy: 0.9940 - val_loss: 6.5834e-04 - val_accuracy: 1.0000\n",
            "Epoch 17/50\n",
            "126/126 - 0s - loss: 0.0043 - accuracy: 0.9980\n",
            "Epoch 18/50\n",
            "126/126 - 0s - loss: 0.0036 - accuracy: 1.0000 - val_loss: 2.7965e-04 - val_accuracy: 1.0000\n",
            "Epoch 19/50\n",
            "126/126 - 0s - loss: 0.0011 - accuracy: 1.0000\n",
            "Epoch 20/50\n",
            "126/126 - 0s - loss: 4.6759e-04 - accuracy: 1.0000 - val_loss: 1.3804e-04 - val_accuracy: 1.0000\n",
            "Epoch 21/50\n",
            "126/126 - 0s - loss: 3.0199e-04 - accuracy: 1.0000\n",
            "Epoch 22/50\n",
            "126/126 - 0s - loss: 2.5492e-04 - accuracy: 1.0000 - val_loss: 1.5018e-04 - val_accuracy: 1.0000\n",
            "Epoch 23/50\n",
            "126/126 - 0s - loss: 3.4887e-04 - accuracy: 1.0000\n",
            "Epoch 24/50\n",
            "126/126 - 0s - loss: 3.3441e-04 - accuracy: 1.0000 - val_loss: 6.9101e-05 - val_accuracy: 1.0000\n",
            "Epoch 25/50\n",
            "126/126 - 0s - loss: 2.6349e-04 - accuracy: 1.0000\n",
            "Epoch 26/50\n",
            "126/126 - 0s - loss: 1.9003e-04 - accuracy: 1.0000 - val_loss: 5.4442e-05 - val_accuracy: 1.0000\n",
            "Epoch 27/50\n",
            "126/126 - 0s - loss: 1.3347e-04 - accuracy: 1.0000\n",
            "Epoch 28/50\n",
            "126/126 - 0s - loss: 9.8489e-05 - accuracy: 1.0000 - val_loss: 7.8398e-05 - val_accuracy: 1.0000\n",
            "Epoch 29/50\n",
            "126/126 - 0s - loss: 2.1122e-04 - accuracy: 1.0000\n",
            "Epoch 30/50\n",
            "126/126 - 0s - loss: 9.1725e-05 - accuracy: 1.0000 - val_loss: 4.9773e-05 - val_accuracy: 1.0000\n",
            "Epoch 31/50\n",
            "126/126 - 0s - loss: 6.2588e-05 - accuracy: 1.0000\n",
            "Epoch 32/50\n",
            "126/126 - 0s - loss: 1.4966e-04 - accuracy: 1.0000 - val_loss: 9.0638e-05 - val_accuracy: 1.0000\n",
            "Epoch 33/50\n",
            "126/126 - 0s - loss: 7.1775e-05 - accuracy: 1.0000\n",
            "Epoch 34/50\n",
            "126/126 - 0s - loss: 0.0678 - accuracy: 0.9742 - val_loss: 0.0087 - val_accuracy: 1.0000\n",
            "Epoch 35/50\n",
            "126/126 - 0s - loss: 0.0759 - accuracy: 0.9782\n",
            "Epoch 36/50\n",
            "126/126 - 0s - loss: 0.0398 - accuracy: 0.9861 - val_loss: 0.0027 - val_accuracy: 1.0000\n",
            "Epoch 37/50\n",
            "126/126 - 0s - loss: 0.0118 - accuracy: 0.9960\n",
            "Epoch 38/50\n",
            "126/126 - 0s - loss: 0.0011 - accuracy: 1.0000 - val_loss: 7.0982e-05 - val_accuracy: 1.0000\n",
            "Epoch 39/50\n",
            "126/126 - 0s - loss: 5.7582e-04 - accuracy: 1.0000\n",
            "Epoch 40/50\n",
            "126/126 - 0s - loss: 3.6310e-04 - accuracy: 1.0000 - val_loss: 2.6916e-05 - val_accuracy: 1.0000\n",
            "Epoch 41/50\n",
            "126/126 - 0s - loss: 2.9718e-04 - accuracy: 1.0000\n",
            "Epoch 42/50\n",
            "126/126 - 0s - loss: 2.8435e-04 - accuracy: 1.0000 - val_loss: 1.8142e-05 - val_accuracy: 1.0000\n",
            "Epoch 43/50\n",
            "126/126 - 0s - loss: 2.1823e-04 - accuracy: 1.0000\n",
            "Epoch 44/50\n",
            "126/126 - 0s - loss: 1.7961e-04 - accuracy: 1.0000 - val_loss: 1.4966e-05 - val_accuracy: 1.0000\n",
            "Epoch 45/50\n",
            "126/126 - 0s - loss: 1.6683e-04 - accuracy: 1.0000\n",
            "Epoch 46/50\n",
            "126/126 - 0s - loss: 1.7285e-04 - accuracy: 1.0000 - val_loss: 8.4935e-06 - val_accuracy: 1.0000\n",
            "Epoch 47/50\n",
            "126/126 - 0s - loss: 1.4639e-04 - accuracy: 1.0000\n",
            "Epoch 48/50\n",
            "126/126 - 0s - loss: 9.8074e-05 - accuracy: 1.0000 - val_loss: 6.2392e-06 - val_accuracy: 1.0000\n",
            "Epoch 49/50\n",
            "126/126 - 0s - loss: 8.3949e-05 - accuracy: 1.0000\n",
            "Epoch 50/50\n",
            "126/126 - 0s - loss: 1.0599e-04 - accuracy: 1.0000 - val_loss: 5.1728e-06 - val_accuracy: 1.0000\n"
          ],
          "name": "stdout"
        }
      ]
    },
    {
      "cell_type": "code",
      "metadata": {
        "id": "E-qaNrokntCk",
        "colab_type": "code",
        "colab": {}
      },
      "source": [
        ""
      ],
      "execution_count": 2349,
      "outputs": []
    },
    {
      "cell_type": "code",
      "metadata": {
        "id": "VXRh0HCijwRz",
        "colab_type": "code",
        "colab": {
          "base_uri": "https://localhost:8080/",
          "height": 51
        },
        "outputId": "f7ed8104-2c29-4996-996a-2d1878581f5d"
      },
      "source": [
        "# testing\n",
        "model.evaluate(x_test, y_test, verbose=2)"
      ],
      "execution_count": 2350,
      "outputs": [
        {
          "output_type": "stream",
          "text": [
            "5/5 - 0s - loss: 0.0014 - accuracy: 1.0000\n"
          ],
          "name": "stdout"
        },
        {
          "output_type": "execute_result",
          "data": {
            "text/plain": [
              "[0.0014179656282067299, 1.0]"
            ]
          },
          "metadata": {
            "tags": []
          },
          "execution_count": 2350
        }
      ]
    },
    {
      "cell_type": "code",
      "metadata": {
        "id": "zpOYq4I_-lFG",
        "colab_type": "code",
        "colab": {
          "base_uri": "https://localhost:8080/",
          "height": 34
        },
        "outputId": "b1640a70-223f-43bf-8783-7fd622b72c9b"
      },
      "source": [
        "predicted = model.predict(x_test, verbose=2)"
      ],
      "execution_count": 2351,
      "outputs": [
        {
          "output_type": "stream",
          "text": [
            "5/5 - 0s\n"
          ],
          "name": "stdout"
        }
      ]
    },
    {
      "cell_type": "code",
      "metadata": {
        "id": "8qeEM55lEQvz",
        "colab_type": "code",
        "colab": {
          "base_uri": "https://localhost:8080/",
          "height": 283
        },
        "outputId": "33fcb76c-fd55-4e1c-f887-599be29a63d7"
      },
      "source": [
        "plt.imshow(x_test[0].reshape(x_test[1].shape[0], x_test[0].shape[1]), cmap='gray')"
      ],
      "execution_count": 2352,
      "outputs": [
        {
          "output_type": "execute_result",
          "data": {
            "text/plain": [
              "<matplotlib.image.AxesImage at 0x7f170e640cf8>"
            ]
          },
          "metadata": {
            "tags": []
          },
          "execution_count": 2352
        },
        {
          "output_type": "display_data",
          "data": {
            "image/png": "[encoded data removed]",
            "text/plain": [
              "<Figure size 432x288 with 1 Axes>"
            ]
          },
          "metadata": {
            "tags": [],
            "needs_background": "light"
          }
        }
      ]
    },
    {
      "cell_type": "code",
      "metadata": {
        "id": "BW_q_PZNDHg7",
        "colab_type": "code",
        "colab": {
          "base_uri": "https://localhost:8080/",
          "height": 68
        },
        "outputId": "0780f286-f2bd-425e-c129-1d9479a78e92"
      },
      "source": [
        "predicted[0]"
      ],
      "execution_count": 2353,
      "outputs": [
        {
          "output_type": "execute_result",
          "data": {
            "text/plain": [
              "array([40.270424 , -1.7580991, -1.7580993, -1.7364782,  7.9463844,\n",
              "       13.24315  , -1.7567273, -1.7580976, -1.7580872, -1.5455166],\n",
              "      dtype=float32)"
            ]
          },
          "metadata": {
            "tags": []
          },
          "execution_count": 2353
        }
      ]
    },
    {
      "cell_type": "code",
      "metadata": {
        "id": "RSC_BhqdCmXk",
        "colab_type": "code",
        "colab": {
          "base_uri": "https://localhost:8080/",
          "height": 428
        },
        "outputId": "2be4798a-e1e3-44d4-c73d-862a56271072"
      },
      "source": [
        "plt.figure(figsize=(15,7))\n",
        "ax1 = plt.subplot(1,2,1)\n",
        "ax1.plot(history.history['loss'], color='b', label='Training Loss')\n",
        "ax1.plot(history.history['val_loss'], color='r', label = 'Validation Loss',axes=ax1)\n",
        "legend = ax1.legend(loc='best', shadow=True)\n",
        "ax2 = plt.subplot(1,2,2)\n",
        "ax2.plot(history.history['accuracy'], color='b', label='Training Accuracy')\n",
        "ax2.plot(history.history['val_accuracy'], color='r', label = 'Validation Accuracy')\n",
        "legend = ax2.legend(loc='best', shadow=True)\n"
      ],
      "execution_count": 2354,
      "outputs": [
        {
          "output_type": "display_data",
          "data": {
            "image/png": "[encoded data removed]",
            "text/plain": [
              "<Figure size 1080x504 with 2 Axes>"
            ]
          },
          "metadata": {
            "tags": [],
            "needs_background": "light"
          }
        }
      ]
    },
    {
      "cell_type": "code",
      "metadata": {
        "id": "g81f2ch0Kvm-",
        "colab_type": "code",
        "colab": {}
      },
      "source": [
        "# len(model.layers)"
      ],
      "execution_count": 2355,
      "outputs": []
    },
    {
      "cell_type": "code",
      "metadata": {
        "id": "9FBxr0wIgutR",
        "colab_type": "code",
        "colab": {}
      },
      "source": [
        "# tf.keras.models.save_model(model, './trainedModels/segmentedInput/')\n",
        "\n",
        "# tf.keras.models.save_model(model, './trainedModels/unsegmentedInput/')"
      ],
      "execution_count": 2356,
      "outputs": []
    },
    {
      "cell_type": "code",
      "metadata": {
        "id": "DOJrDirgcOt_",
        "colab_type": "code",
        "colab": {}
      },
      "source": [
        "# mm = tf.keras.models.load_model('./trainedModels/unsegmentedInput/')"
      ],
      "execution_count": 2357,
      "outputs": []
    },
    {
      "cell_type": "code",
      "metadata": {
        "id": "xFshSDWlcXeC",
        "colab_type": "code",
        "colab": {}
      },
      "source": [
        ""
      ],
      "execution_count": 2357,
      "outputs": []
    },
    {
      "cell_type": "code",
      "metadata": {
        "id": "GlqsvaIP-lt3",
        "colab_type": "code",
        "colab": {}
      },
      "source": [
        "# probability_model = tf.keras.Sequential([ model, tf.keras.layers.Softmax()])"
      ],
      "execution_count": 2358,
      "outputs": []
    },
    {
      "cell_type": "code",
      "metadata": {
        "id": "xZcAnZw9-p1I",
        "colab_type": "code",
        "colab": {}
      },
      "source": [
        "# probability_model(x_test[:5])"
      ],
      "execution_count": 2359,
      "outputs": []
    }
  ]
}